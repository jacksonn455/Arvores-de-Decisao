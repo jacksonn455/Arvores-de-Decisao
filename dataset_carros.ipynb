{
  "nbformat": 4,
  "nbformat_minor": 0,
  "metadata": {
    "colab": {
      "name": "dataset-carros.ipynb",
      "provenance": [],
      "collapsed_sections": [],
      "include_colab_link": true
    },
    "kernelspec": {
      "name": "python3",
      "display_name": "Python 3"
    }
  },
  "cells": [
    {
      "cell_type": "markdown",
      "metadata": {
        "id": "view-in-github",
        "colab_type": "text"
      },
      "source": [
        "<a href=\"https://colab.research.google.com/github/jacksonn455/Trabalho2IA/blob/master/dataset_carros.ipynb\" target=\"_parent\"><img src=\"https://colab.research.google.com/assets/colab-badge.svg\" alt=\"Open In Colab\"/></a>"
      ]
    },
    {
      "cell_type": "markdown",
      "metadata": {
        "id": "3l-ad18Io8qA",
        "colab_type": "text"
      },
      "source": [
        "Artigos de pesquisa: https://inferir.com.br/artigos/algoritimo-knn-para-classificacao/ e\n",
        "https://minerandodados.com.br/python-para-analise-de-dados/ e https://www.datacamp.com/community/tutorials/k-nearest-neighbor-classification-scikit-learn e https://www.kaggle.com/adityapatil673/classification-traits-of-a-poisonous-mushroom/notebook"
      ]
    },
    {
      "cell_type": "markdown",
      "metadata": {
        "id": "LaoI0SUHbWJS",
        "colab_type": "text"
      },
      "source": [
        "Algoritimo utilizando **KNN** para classificação do dataset Avaliação de carros\n"
      ]
    },
    {
      "cell_type": "code",
      "metadata": {
        "id": "4hkGvGNiXXI0",
        "colab_type": "code",
        "colab": {
          "base_uri": "https://localhost:8080/",
          "height": 204
        },
        "outputId": "631ba6bb-b606-4518-d4db-ae6e4e22b7dc"
      },
      "source": [
        "import csv\n",
        "import pandas as pd\n",
        "import numpy as np\n",
        "from matplotlib import pyplot as plt\n",
        "from sklearn.neighbors import KNeighborsClassifier\n",
        "from sklearn.preprocessing import StandardScaler\n",
        "from sklearn.model_selection import train_test_split \n",
        "\n",
        "import scipy as scp\n",
        "import warnings\n",
        "warnings.filterwarnings(\"ignore\")\n",
        "\n",
        "# Ultilizando a biblioteca pandas para importação dos dados\n",
        "carros = pd.read_csv ('dataset-carros.csv')\n",
        "\n",
        "# Verificando dados iniciais do dataset importado\n",
        "carros.head()"
      ],
      "execution_count": null,
      "outputs": [
        {
          "output_type": "execute_result",
          "data": {
            "text/html": [
              "<div>\n",
              "<style scoped>\n",
              "    .dataframe tbody tr th:only-of-type {\n",
              "        vertical-align: middle;\n",
              "    }\n",
              "\n",
              "    .dataframe tbody tr th {\n",
              "        vertical-align: top;\n",
              "    }\n",
              "\n",
              "    .dataframe thead th {\n",
              "        text-align: right;\n",
              "    }\n",
              "</style>\n",
              "<table border=\"1\" class=\"dataframe\">\n",
              "  <thead>\n",
              "    <tr style=\"text-align: right;\">\n",
              "      <th></th>\n",
              "      <th>valorcompra</th>\n",
              "      <th>valormanutencao</th>\n",
              "      <th>portas</th>\n",
              "      <th>pessoas</th>\n",
              "      <th>portamalas</th>\n",
              "      <th>nivelseguranca</th>\n",
              "      <th>classes</th>\n",
              "    </tr>\n",
              "  </thead>\n",
              "  <tbody>\n",
              "    <tr>\n",
              "      <th>0</th>\n",
              "      <td>altissimo</td>\n",
              "      <td>altissimo</td>\n",
              "      <td>2</td>\n",
              "      <td>2</td>\n",
              "      <td>pequeno</td>\n",
              "      <td>baixo</td>\n",
              "      <td>inaceitavel</td>\n",
              "    </tr>\n",
              "    <tr>\n",
              "      <th>1</th>\n",
              "      <td>altissimo</td>\n",
              "      <td>altissimo</td>\n",
              "      <td>2</td>\n",
              "      <td>2</td>\n",
              "      <td>pequeno</td>\n",
              "      <td>medio</td>\n",
              "      <td>inaceitavel</td>\n",
              "    </tr>\n",
              "    <tr>\n",
              "      <th>2</th>\n",
              "      <td>altissimo</td>\n",
              "      <td>altissimo</td>\n",
              "      <td>2</td>\n",
              "      <td>2</td>\n",
              "      <td>pequeno</td>\n",
              "      <td>alto</td>\n",
              "      <td>inaceitavel</td>\n",
              "    </tr>\n",
              "    <tr>\n",
              "      <th>3</th>\n",
              "      <td>altissimo</td>\n",
              "      <td>altissimo</td>\n",
              "      <td>2</td>\n",
              "      <td>2</td>\n",
              "      <td>medio</td>\n",
              "      <td>baixo</td>\n",
              "      <td>inaceitavel</td>\n",
              "    </tr>\n",
              "    <tr>\n",
              "      <th>4</th>\n",
              "      <td>altissimo</td>\n",
              "      <td>altissimo</td>\n",
              "      <td>2</td>\n",
              "      <td>2</td>\n",
              "      <td>medio</td>\n",
              "      <td>medio</td>\n",
              "      <td>inaceitavel</td>\n",
              "    </tr>\n",
              "  </tbody>\n",
              "</table>\n",
              "</div>"
            ],
            "text/plain": [
              "  valorcompra valormanutencao  portas  ... portamalas nivelseguranca      classes\n",
              "0   altissimo       altissimo       2  ...    pequeno          baixo  inaceitavel\n",
              "1   altissimo       altissimo       2  ...    pequeno          medio  inaceitavel\n",
              "2   altissimo       altissimo       2  ...    pequeno           alto  inaceitavel\n",
              "3   altissimo       altissimo       2  ...      medio          baixo  inaceitavel\n",
              "4   altissimo       altissimo       2  ...      medio          medio  inaceitavel\n",
              "\n",
              "[5 rows x 7 columns]"
            ]
          },
          "metadata": {
            "tags": []
          },
          "execution_count": 2
        }
      ]
    },
    {
      "cell_type": "code",
      "metadata": {
        "id": "aGAO6FaxYULf",
        "colab_type": "code",
        "colab": {
          "base_uri": "https://localhost:8080/",
          "height": 255
        },
        "outputId": "55d3b149-8c1d-4160-90ad-4a28bcc03611"
      },
      "source": [
        "# Entendendo o dataset, colunas, data types, quantidade de registros por coluna\n",
        "carros.info()"
      ],
      "execution_count": null,
      "outputs": [
        {
          "output_type": "stream",
          "text": [
            "<class 'pandas.core.frame.DataFrame'>\n",
            "RangeIndex: 1727 entries, 0 to 1726\n",
            "Data columns (total 7 columns):\n",
            " #   Column           Non-Null Count  Dtype \n",
            "---  ------           --------------  ----- \n",
            " 0   valorcompra      1727 non-null   object\n",
            " 1   valormanutencao  1727 non-null   object\n",
            " 2   portas           1727 non-null   int64 \n",
            " 3   pessoas          1727 non-null   object\n",
            " 4   portamalas       1727 non-null   object\n",
            " 5   nivelseguranca   1727 non-null   object\n",
            " 6   classes          1727 non-null   object\n",
            "dtypes: int64(1), object(6)\n",
            "memory usage: 94.6+ KB\n"
          ],
          "name": "stdout"
        }
      ]
    },
    {
      "cell_type": "code",
      "metadata": {
        "id": "dlRzhhvPpUgk",
        "colab_type": "code",
        "colab": {
          "base_uri": "https://localhost:8080/",
          "height": 153
        },
        "outputId": "7dd0019c-3210-4d13-ec0a-bb06040dfa99"
      },
      "source": [
        "# Quantas linhas tem a base de dados\n",
        "carros.count()"
      ],
      "execution_count": null,
      "outputs": [
        {
          "output_type": "execute_result",
          "data": {
            "text/plain": [
              "valorcompra        1727\n",
              "valormanutencao    1727\n",
              "portas             1727\n",
              "pessoas            1727\n",
              "portamalas         1727\n",
              "nivelseguranca     1727\n",
              "classes            1727\n",
              "dtype: int64"
            ]
          },
          "metadata": {
            "tags": []
          },
          "execution_count": 6
        }
      ]
    },
    {
      "cell_type": "code",
      "metadata": {
        "id": "epZKpRM4pkdk",
        "colab_type": "code",
        "colab": {
          "base_uri": "https://localhost:8080/",
          "height": 68
        },
        "outputId": "6bf0767e-0294-422d-9efa-eb855fcec392"
      },
      "source": [
        "# imprimir todas colunas do dataset\n",
        "carros.columns"
      ],
      "execution_count": null,
      "outputs": [
        {
          "output_type": "execute_result",
          "data": {
            "text/plain": [
              "Index(['valorcompra', 'valormanutencao', 'portas', 'pessoas', 'portamalas',\n",
              "       'nivelseguranca', 'classes'],\n",
              "      dtype='object')"
            ]
          },
          "metadata": {
            "tags": []
          },
          "execution_count": 7
        }
      ]
    },
    {
      "cell_type": "code",
      "metadata": {
        "id": "5Sy8BdBeYf6R",
        "colab_type": "code",
        "colab": {
          "base_uri": "https://localhost:8080/",
          "height": 297
        },
        "outputId": "a650fce5-bda8-4897-c63e-86a11f26bc14"
      },
      "source": [
        "# Verificando detalhes estatísticos do dataset\n",
        "carros.describe() "
      ],
      "execution_count": null,
      "outputs": [
        {
          "output_type": "execute_result",
          "data": {
            "text/html": [
              "<div>\n",
              "<style scoped>\n",
              "    .dataframe tbody tr th:only-of-type {\n",
              "        vertical-align: middle;\n",
              "    }\n",
              "\n",
              "    .dataframe tbody tr th {\n",
              "        vertical-align: top;\n",
              "    }\n",
              "\n",
              "    .dataframe thead th {\n",
              "        text-align: right;\n",
              "    }\n",
              "</style>\n",
              "<table border=\"1\" class=\"dataframe\">\n",
              "  <thead>\n",
              "    <tr style=\"text-align: right;\">\n",
              "      <th></th>\n",
              "      <th>portas</th>\n",
              "    </tr>\n",
              "  </thead>\n",
              "  <tbody>\n",
              "    <tr>\n",
              "      <th>count</th>\n",
              "      <td>1727.000000</td>\n",
              "    </tr>\n",
              "    <tr>\n",
              "      <th>mean</th>\n",
              "      <td>3.499131</td>\n",
              "    </tr>\n",
              "    <tr>\n",
              "      <th>std</th>\n",
              "      <td>1.118098</td>\n",
              "    </tr>\n",
              "    <tr>\n",
              "      <th>min</th>\n",
              "      <td>2.000000</td>\n",
              "    </tr>\n",
              "    <tr>\n",
              "      <th>25%</th>\n",
              "      <td>2.500000</td>\n",
              "    </tr>\n",
              "    <tr>\n",
              "      <th>50%</th>\n",
              "      <td>3.000000</td>\n",
              "    </tr>\n",
              "    <tr>\n",
              "      <th>75%</th>\n",
              "      <td>4.000000</td>\n",
              "    </tr>\n",
              "    <tr>\n",
              "      <th>max</th>\n",
              "      <td>5.000000</td>\n",
              "    </tr>\n",
              "  </tbody>\n",
              "</table>\n",
              "</div>"
            ],
            "text/plain": [
              "            portas\n",
              "count  1727.000000\n",
              "mean      3.499131\n",
              "std       1.118098\n",
              "min       2.000000\n",
              "25%       2.500000\n",
              "50%       3.000000\n",
              "75%       4.000000\n",
              "max       5.000000"
            ]
          },
          "metadata": {
            "tags": []
          },
          "execution_count": 8
        }
      ]
    },
    {
      "cell_type": "code",
      "metadata": {
        "id": "jTxralAKkEws",
        "colab_type": "code",
        "colab": {
          "base_uri": "https://localhost:8080/",
          "height": 275
        },
        "outputId": "7e55741e-b804-417d-8c16-01607cb8d80c"
      },
      "source": [
        "# Verifica valores duplicados por linha, ou seja, verifica se alguma linha é exatamente igual a uma anterior\n",
        "print(carros.duplicated)\n"
      ],
      "execution_count": null,
      "outputs": [
        {
          "output_type": "stream",
          "text": [
            "<bound method DataFrame.duplicated of      valorcompra valormanutencao  portas  ... portamalas nivelseguranca      classes\n",
            "0      altissimo       altissimo       2  ...    pequeno          baixo  inaceitavel\n",
            "1      altissimo       altissimo       2  ...    pequeno          medio  inaceitavel\n",
            "2      altissimo       altissimo       2  ...    pequeno           alto  inaceitavel\n",
            "3      altissimo       altissimo       2  ...      medio          baixo  inaceitavel\n",
            "4      altissimo       altissimo       2  ...      medio          medio  inaceitavel\n",
            "...          ...             ...     ...  ...        ...            ...          ...\n",
            "1722       baixo           baixo       5  ...      medio          medio          bom\n",
            "1723       baixo           baixo       5  ...      medio           alto        otimo\n",
            "1724       baixo           baixo       5  ...     grande          baixo  inaceitavel\n",
            "1725       baixo           baixo       5  ...     grande          medio          bom\n",
            "1726       baixo           baixo       5  ...     grande           alto        otimo\n",
            "\n",
            "[1727 rows x 7 columns]>\n"
          ],
          "name": "stdout"
        }
      ]
    },
    {
      "cell_type": "code",
      "metadata": {
        "id": "WCbJt9zcqaUx",
        "colab_type": "code",
        "colab": {
          "base_uri": "https://localhost:8080/",
          "height": 419
        },
        "outputId": "6116dfb1-37e0-47ca-9c37-a2ce20923ee2"
      },
      "source": [
        "# Verificação de valores faltantes\n",
        "carros.isnull()"
      ],
      "execution_count": null,
      "outputs": [
        {
          "output_type": "execute_result",
          "data": {
            "text/html": [
              "<div>\n",
              "<style scoped>\n",
              "    .dataframe tbody tr th:only-of-type {\n",
              "        vertical-align: middle;\n",
              "    }\n",
              "\n",
              "    .dataframe tbody tr th {\n",
              "        vertical-align: top;\n",
              "    }\n",
              "\n",
              "    .dataframe thead th {\n",
              "        text-align: right;\n",
              "    }\n",
              "</style>\n",
              "<table border=\"1\" class=\"dataframe\">\n",
              "  <thead>\n",
              "    <tr style=\"text-align: right;\">\n",
              "      <th></th>\n",
              "      <th>valorcompra</th>\n",
              "      <th>valormanutencao</th>\n",
              "      <th>portas</th>\n",
              "      <th>pessoas</th>\n",
              "      <th>portamalas</th>\n",
              "      <th>nivelseguranca</th>\n",
              "      <th>classes</th>\n",
              "    </tr>\n",
              "  </thead>\n",
              "  <tbody>\n",
              "    <tr>\n",
              "      <th>0</th>\n",
              "      <td>False</td>\n",
              "      <td>False</td>\n",
              "      <td>False</td>\n",
              "      <td>False</td>\n",
              "      <td>False</td>\n",
              "      <td>False</td>\n",
              "      <td>False</td>\n",
              "    </tr>\n",
              "    <tr>\n",
              "      <th>1</th>\n",
              "      <td>False</td>\n",
              "      <td>False</td>\n",
              "      <td>False</td>\n",
              "      <td>False</td>\n",
              "      <td>False</td>\n",
              "      <td>False</td>\n",
              "      <td>False</td>\n",
              "    </tr>\n",
              "    <tr>\n",
              "      <th>2</th>\n",
              "      <td>False</td>\n",
              "      <td>False</td>\n",
              "      <td>False</td>\n",
              "      <td>False</td>\n",
              "      <td>False</td>\n",
              "      <td>False</td>\n",
              "      <td>False</td>\n",
              "    </tr>\n",
              "    <tr>\n",
              "      <th>3</th>\n",
              "      <td>False</td>\n",
              "      <td>False</td>\n",
              "      <td>False</td>\n",
              "      <td>False</td>\n",
              "      <td>False</td>\n",
              "      <td>False</td>\n",
              "      <td>False</td>\n",
              "    </tr>\n",
              "    <tr>\n",
              "      <th>4</th>\n",
              "      <td>False</td>\n",
              "      <td>False</td>\n",
              "      <td>False</td>\n",
              "      <td>False</td>\n",
              "      <td>False</td>\n",
              "      <td>False</td>\n",
              "      <td>False</td>\n",
              "    </tr>\n",
              "    <tr>\n",
              "      <th>...</th>\n",
              "      <td>...</td>\n",
              "      <td>...</td>\n",
              "      <td>...</td>\n",
              "      <td>...</td>\n",
              "      <td>...</td>\n",
              "      <td>...</td>\n",
              "      <td>...</td>\n",
              "    </tr>\n",
              "    <tr>\n",
              "      <th>1722</th>\n",
              "      <td>False</td>\n",
              "      <td>False</td>\n",
              "      <td>False</td>\n",
              "      <td>False</td>\n",
              "      <td>False</td>\n",
              "      <td>False</td>\n",
              "      <td>False</td>\n",
              "    </tr>\n",
              "    <tr>\n",
              "      <th>1723</th>\n",
              "      <td>False</td>\n",
              "      <td>False</td>\n",
              "      <td>False</td>\n",
              "      <td>False</td>\n",
              "      <td>False</td>\n",
              "      <td>False</td>\n",
              "      <td>False</td>\n",
              "    </tr>\n",
              "    <tr>\n",
              "      <th>1724</th>\n",
              "      <td>False</td>\n",
              "      <td>False</td>\n",
              "      <td>False</td>\n",
              "      <td>False</td>\n",
              "      <td>False</td>\n",
              "      <td>False</td>\n",
              "      <td>False</td>\n",
              "    </tr>\n",
              "    <tr>\n",
              "      <th>1725</th>\n",
              "      <td>False</td>\n",
              "      <td>False</td>\n",
              "      <td>False</td>\n",
              "      <td>False</td>\n",
              "      <td>False</td>\n",
              "      <td>False</td>\n",
              "      <td>False</td>\n",
              "    </tr>\n",
              "    <tr>\n",
              "      <th>1726</th>\n",
              "      <td>False</td>\n",
              "      <td>False</td>\n",
              "      <td>False</td>\n",
              "      <td>False</td>\n",
              "      <td>False</td>\n",
              "      <td>False</td>\n",
              "      <td>False</td>\n",
              "    </tr>\n",
              "  </tbody>\n",
              "</table>\n",
              "<p>1727 rows × 7 columns</p>\n",
              "</div>"
            ],
            "text/plain": [
              "      valorcompra  valormanutencao  portas  ...  portamalas  nivelseguranca  classes\n",
              "0           False            False   False  ...       False           False    False\n",
              "1           False            False   False  ...       False           False    False\n",
              "2           False            False   False  ...       False           False    False\n",
              "3           False            False   False  ...       False           False    False\n",
              "4           False            False   False  ...       False           False    False\n",
              "...           ...              ...     ...  ...         ...             ...      ...\n",
              "1722        False            False   False  ...       False           False    False\n",
              "1723        False            False   False  ...       False           False    False\n",
              "1724        False            False   False  ...       False           False    False\n",
              "1725        False            False   False  ...       False           False    False\n",
              "1726        False            False   False  ...       False           False    False\n",
              "\n",
              "[1727 rows x 7 columns]"
            ]
          },
          "metadata": {
            "tags": []
          },
          "execution_count": 12
        }
      ]
    },
    {
      "cell_type": "code",
      "metadata": {
        "id": "lfudPOyXtu4f",
        "colab_type": "code",
        "colab": {
          "base_uri": "https://localhost:8080/",
          "height": 111
        },
        "outputId": "112925ee-d274-44f4-dfb9-fa96e7199ae2"
      },
      "source": [
        "# Carros com o melhor Custo beneficio\n",
        "carros.loc[(carros['valorcompra']=='baixo') & (carros['valormanutencao'] == 'baixo') & (carros['portas'] == 4) & (carros['portamalas'] == 'grande') & (carros['nivelseguranca'] == 'alto') & (carros['classes'] == 'otimo') ]\n",
        "\n"
      ],
      "execution_count": null,
      "outputs": [
        {
          "output_type": "execute_result",
          "data": {
            "text/html": [
              "<div>\n",
              "<style scoped>\n",
              "    .dataframe tbody tr th:only-of-type {\n",
              "        vertical-align: middle;\n",
              "    }\n",
              "\n",
              "    .dataframe tbody tr th {\n",
              "        vertical-align: top;\n",
              "    }\n",
              "\n",
              "    .dataframe thead th {\n",
              "        text-align: right;\n",
              "    }\n",
              "</style>\n",
              "<table border=\"1\" class=\"dataframe\">\n",
              "  <thead>\n",
              "    <tr style=\"text-align: right;\">\n",
              "      <th></th>\n",
              "      <th>valorcompra</th>\n",
              "      <th>valormanutencao</th>\n",
              "      <th>portas</th>\n",
              "      <th>pessoas</th>\n",
              "      <th>portamalas</th>\n",
              "      <th>nivelseguranca</th>\n",
              "      <th>classes</th>\n",
              "    </tr>\n",
              "  </thead>\n",
              "  <tbody>\n",
              "    <tr>\n",
              "      <th>1690</th>\n",
              "      <td>baixo</td>\n",
              "      <td>baixo</td>\n",
              "      <td>4</td>\n",
              "      <td>4</td>\n",
              "      <td>grande</td>\n",
              "      <td>alto</td>\n",
              "      <td>otimo</td>\n",
              "    </tr>\n",
              "    <tr>\n",
              "      <th>1699</th>\n",
              "      <td>baixo</td>\n",
              "      <td>baixo</td>\n",
              "      <td>4</td>\n",
              "      <td>5mais</td>\n",
              "      <td>grande</td>\n",
              "      <td>alto</td>\n",
              "      <td>otimo</td>\n",
              "    </tr>\n",
              "  </tbody>\n",
              "</table>\n",
              "</div>"
            ],
            "text/plain": [
              "     valorcompra valormanutencao  portas  ... portamalas nivelseguranca classes\n",
              "1690       baixo           baixo       4  ...     grande           alto   otimo\n",
              "1699       baixo           baixo       4  ...     grande           alto   otimo\n",
              "\n",
              "[2 rows x 7 columns]"
            ]
          },
          "metadata": {
            "tags": []
          },
          "execution_count": 17
        }
      ]
    },
    {
      "cell_type": "code",
      "metadata": {
        "id": "0f2kRvTNvGVk",
        "colab_type": "code",
        "colab": {
          "base_uri": "https://localhost:8080/",
          "height": 153
        },
        "outputId": "012be367-0561-4490-948d-def3e92336fb"
      },
      "source": [
        "# Contar a quantidade de carros com melhor custo e beneficio\n",
        "carros.loc[(carros['valorcompra']=='baixo') & (carros['valormanutencao'] == 'baixo') & (carros['portas'] == 4) & (carros['portamalas'] == 'grande') & (carros['nivelseguranca'] == 'alto') & (carros['classes'] == 'otimo') ].count()"
      ],
      "execution_count": null,
      "outputs": [
        {
          "output_type": "execute_result",
          "data": {
            "text/plain": [
              "valorcompra        2\n",
              "valormanutencao    2\n",
              "portas             2\n",
              "pessoas            2\n",
              "portamalas         2\n",
              "nivelseguranca     2\n",
              "classes            2\n",
              "dtype: int64"
            ]
          },
          "metadata": {
            "tags": []
          },
          "execution_count": 18
        }
      ]
    },
    {
      "cell_type": "code",
      "metadata": {
        "id": "LhdMBnptczoy",
        "colab_type": "code",
        "colab": {
          "base_uri": "https://localhost:8080/",
          "height": 34
        },
        "outputId": "18ea6af0-1d01-444b-9e66-e61b27e3d557"
      },
      "source": [
        "# Obter a forma atual da matriz\n",
        "carros.shape"
      ],
      "execution_count": null,
      "outputs": [
        {
          "output_type": "execute_result",
          "data": {
            "text/plain": [
              "(1727, 7)"
            ]
          },
          "metadata": {
            "tags": []
          },
          "execution_count": 11
        }
      ]
    },
    {
      "cell_type": "code",
      "metadata": {
        "id": "ou4fyhEsZQCB",
        "colab_type": "code",
        "colab": {
          "base_uri": "https://localhost:8080/",
          "height": 377
        },
        "outputId": "921626bd-459a-43df-d51c-31fcf42fba7a"
      },
      "source": [
        "def grafico (data):\n",
        "    '''\n",
        "    Esta função exibirá a quantidade de registros únicos para cada coluna\n",
        "    existente no dataset\n",
        "    \n",
        "    dataframe -> Histogram\n",
        "    '''\n",
        "    # Calculando valores unicos para cada label: num_unique_labels\n",
        "    num_unique_labels = data.apply(pd.Series.nunique)\n",
        "\n",
        "    # plotando valores\n",
        "    num_unique_labels.plot( kind='bar')\n",
        "    \n",
        "    # Nomeando os eixos\n",
        "    plt.xlabel('Campos')\n",
        "    plt.ylabel('Número de Registros únicos')\n",
        "    plt.title('Distribuição de dados únicos do DataSet')\n",
        "    \n",
        "    # Exibindo gráfico\n",
        "    plt.style.use('ggplot')\n",
        "    plt.show()\n",
        "\n",
        "grafico(carros)"
      ],
      "execution_count": null,
      "outputs": [
        {
          "output_type": "display_data",
          "data": {
            "image/png": "[encoded data removed]",
            "text/plain": [
              "<Figure size 432x288 with 1 Axes>"
            ]
          },
          "metadata": {
            "tags": []
          }
        }
      ]
    },
    {
      "cell_type": "code",
      "metadata": {
        "id": "CpwtQMmuZrAp",
        "colab_type": "code",
        "colab": {
          "base_uri": "https://localhost:8080/",
          "height": 629
        },
        "outputId": "969fdaad-5a14-48a9-cd70-28cb3270b32c"
      },
      "source": [
        "a = pd.value_counts(carros['classes']) [0]\n",
        "b = pd.value_counts(carros['classes']) [1]\n",
        "c = pd.value_counts(carros['classes']) [2]\n",
        "d = pd.value_counts(carros['classes']) [3]\n",
        "\n",
        "tam = len(carros)\n",
        "\n",
        "print('Inaceitavel: ',a)\n",
        "print('Aceitavel: ',b)\n",
        "print('Bom: ',c)\n",
        "print('Otimo: ',d)\n",
        "\n",
        "pie = pd.DataFrame([['Inaceitavel',a],['Aceitavel',b],['Bom',c],['Otimo',d]],columns=['Tipo' , 'Quantidade'])\n",
        "\n",
        "def pie_chart(data,col1,col2,col3,col4,title): \n",
        "    labels = {'Inaceitavel':'0','Aceitavel':'1', 'Bom':'2', 'Otimo':'3'}\n",
        "    sizes = data[col4]\n",
        "    colors = ['#c74e26', '#ffb266', '#8679c9', '#d694cd']\n",
        "\n",
        "\n",
        "    plt.pie(sizes, labels=labels, colors=colors,\n",
        "                autopct='%1.1f%%', shadow=True, startangle=140, labeldistance =1.2)\n",
        "    plt.title( title )\n",
        "    \n",
        "    plt.axis('equal')\n",
        "    plt.show()\n",
        "\n",
        "pie_chart(pie,'Tipo' ,'label', 'label', 'Quantidade','Distribuição Percentual Classes')\n",
        "\n",
        "\n",
        "plt.bar(pie.Tipo,pie.Quantidade, color = ['#c74e26', '#ffb266', '#8679c9', '#d694cd'])\n",
        "plt.title(\"Distribuição das Classes dos carros\")\n",
        "plt.xlabel(\"Tipo de classe\")\n",
        "plt.ylabel('Quantidade de Registros')\n",
        "plt.show()"
      ],
      "execution_count": null,
      "outputs": [
        {
          "output_type": "stream",
          "text": [
            "Inaceitavel:  1210\n",
            "Aceitavel:  383\n",
            "Bom:  69\n",
            "Otimo:  65\n"
          ],
          "name": "stdout"
        },
        {
          "output_type": "display_data",
          "data": {
            "image/png": "[encoded data removed]",
            "text/plain": [
              "<Figure size 432x288 with 1 Axes>"
            ]
          },
          "metadata": {
            "tags": []
          }
        },
        {
          "output_type": "display_data",
          "data": {
            "image/png": "[encoded data removed]",
            "text/plain": [
              "<Figure size 432x288 with 1 Axes>"
            ]
          },
          "metadata": {
            "tags": []
          }
        }
      ]
    },
    {
      "cell_type": "markdown",
      "metadata": {
        "id": "BCS0Xe4RgT-Y",
        "colab_type": "text"
      },
      "source": [
        "# Código Exemplo de Classificação usando KNN encontrado no Classroom no dia 09 de Junho"
      ]
    },
    {
      "cell_type": "code",
      "metadata": {
        "id": "NUEyQtpef24v",
        "colab_type": "code",
        "colab": {
          "base_uri": "https://localhost:8080/",
          "height": 374
        },
        "outputId": "7af491ed-e790-4951-cee9-aa28760c4da0"
      },
      "source": [
        "df_treino=carros.sample(frac=0.8)\n",
        "df_teste=carros.drop(df_treino.index)\n",
        "\n",
        "treino = df_treino.to_numpy()\n",
        "teste = df_teste.to_numpy()\n",
        "\n",
        "kvizinhos = KNeighborsClassifier(n_neighbors=3)\n",
        "kvizinhos.fit(treino[:, : -1], treino[:, -1])\n",
        "resultado = kvizinhos.predict(teste[:, :-1])\n",
        "\n",
        "erros = 0\n",
        "\n",
        "for index in range(len(resultado)):\n",
        "  elemento = teste[index]\n",
        "  classe = resultado[index]\n",
        "  print('Elemento %s foi classificado como %s' % (elemento, classe))\n",
        "\n",
        "  if classe != elemento[-1]:\n",
        "    erros += 1\n",
        "\n",
        "print('Número de erros:', erros)\n",
        "\n",
        "\n",
        "y_previsao = kvizinhos.predict_proba(teste[:, :-1])\n",
        "\n",
        "acuracia = (len(resultado) - erros) / len(resultado)\n",
        "print('Acurácia:', acuracia)"
      ],
      "execution_count": null,
      "outputs": [
        {
          "output_type": "error",
          "ename": "ValueError",
          "evalue": "ignored",
          "traceback": [
            "\u001b[0;31m---------------------------------------------------------------------------\u001b[0m",
            "\u001b[0;31mValueError\u001b[0m                                Traceback (most recent call last)",
            "\u001b[0;32m<ipython-input-21-bf0c388843d1>\u001b[0m in \u001b[0;36m<module>\u001b[0;34m()\u001b[0m\n\u001b[1;32m      6\u001b[0m \u001b[0;34m\u001b[0m\u001b[0m\n\u001b[1;32m      7\u001b[0m \u001b[0mkvizinhos\u001b[0m \u001b[0;34m=\u001b[0m \u001b[0mKNeighborsClassifier\u001b[0m\u001b[0;34m(\u001b[0m\u001b[0mn_neighbors\u001b[0m\u001b[0;34m=\u001b[0m\u001b[0;36m3\u001b[0m\u001b[0;34m)\u001b[0m\u001b[0;34m\u001b[0m\u001b[0;34m\u001b[0m\u001b[0m\n\u001b[0;32m----> 8\u001b[0;31m \u001b[0mkvizinhos\u001b[0m\u001b[0;34m.\u001b[0m\u001b[0mfit\u001b[0m\u001b[0;34m(\u001b[0m\u001b[0mtreino\u001b[0m\u001b[0;34m[\u001b[0m\u001b[0;34m:\u001b[0m\u001b[0;34m,\u001b[0m \u001b[0;34m:\u001b[0m \u001b[0;34m-\u001b[0m\u001b[0;36m1\u001b[0m\u001b[0;34m]\u001b[0m\u001b[0;34m,\u001b[0m \u001b[0mtreino\u001b[0m\u001b[0;34m[\u001b[0m\u001b[0;34m:\u001b[0m\u001b[0;34m,\u001b[0m \u001b[0;34m-\u001b[0m\u001b[0;36m1\u001b[0m\u001b[0;34m]\u001b[0m\u001b[0;34m)\u001b[0m\u001b[0;34m\u001b[0m\u001b[0;34m\u001b[0m\u001b[0m\n\u001b[0m\u001b[1;32m      9\u001b[0m \u001b[0mresultado\u001b[0m \u001b[0;34m=\u001b[0m \u001b[0mkvizinhos\u001b[0m\u001b[0;34m.\u001b[0m\u001b[0mpredict\u001b[0m\u001b[0;34m(\u001b[0m\u001b[0mteste\u001b[0m\u001b[0;34m[\u001b[0m\u001b[0;34m:\u001b[0m\u001b[0;34m,\u001b[0m \u001b[0;34m:\u001b[0m\u001b[0;34m-\u001b[0m\u001b[0;36m1\u001b[0m\u001b[0;34m]\u001b[0m\u001b[0;34m)\u001b[0m\u001b[0;34m\u001b[0m\u001b[0;34m\u001b[0m\u001b[0m\n\u001b[1;32m     10\u001b[0m \u001b[0;34m\u001b[0m\u001b[0m\n",
            "\u001b[0;32m/usr/local/lib/python3.6/dist-packages/sklearn/neighbors/_base.py\u001b[0m in \u001b[0;36mfit\u001b[0;34m(self, X, y)\u001b[0m\n\u001b[1;32m   1124\u001b[0m         \"\"\"\n\u001b[1;32m   1125\u001b[0m         \u001b[0;32mif\u001b[0m \u001b[0;32mnot\u001b[0m \u001b[0misinstance\u001b[0m\u001b[0;34m(\u001b[0m\u001b[0mX\u001b[0m\u001b[0;34m,\u001b[0m \u001b[0;34m(\u001b[0m\u001b[0mKDTree\u001b[0m\u001b[0;34m,\u001b[0m \u001b[0mBallTree\u001b[0m\u001b[0;34m)\u001b[0m\u001b[0;34m)\u001b[0m\u001b[0;34m:\u001b[0m\u001b[0;34m\u001b[0m\u001b[0;34m\u001b[0m\u001b[0m\n\u001b[0;32m-> 1126\u001b[0;31m             \u001b[0mX\u001b[0m\u001b[0;34m,\u001b[0m \u001b[0my\u001b[0m \u001b[0;34m=\u001b[0m \u001b[0mcheck_X_y\u001b[0m\u001b[0;34m(\u001b[0m\u001b[0mX\u001b[0m\u001b[0;34m,\u001b[0m \u001b[0my\u001b[0m\u001b[0;34m,\u001b[0m \u001b[0;34m\"csr\"\u001b[0m\u001b[0;34m,\u001b[0m \u001b[0mmulti_output\u001b[0m\u001b[0;34m=\u001b[0m\u001b[0;32mTrue\u001b[0m\u001b[0;34m)\u001b[0m\u001b[0;34m\u001b[0m\u001b[0;34m\u001b[0m\u001b[0m\n\u001b[0m\u001b[1;32m   1127\u001b[0m \u001b[0;34m\u001b[0m\u001b[0m\n\u001b[1;32m   1128\u001b[0m         \u001b[0;32mif\u001b[0m \u001b[0my\u001b[0m\u001b[0;34m.\u001b[0m\u001b[0mndim\u001b[0m \u001b[0;34m==\u001b[0m \u001b[0;36m1\u001b[0m \u001b[0;32mor\u001b[0m \u001b[0my\u001b[0m\u001b[0;34m.\u001b[0m\u001b[0mndim\u001b[0m \u001b[0;34m==\u001b[0m \u001b[0;36m2\u001b[0m \u001b[0;32mand\u001b[0m \u001b[0my\u001b[0m\u001b[0;34m.\u001b[0m\u001b[0mshape\u001b[0m\u001b[0;34m[\u001b[0m\u001b[0;36m1\u001b[0m\u001b[0;34m]\u001b[0m \u001b[0;34m==\u001b[0m \u001b[0;36m1\u001b[0m\u001b[0;34m:\u001b[0m\u001b[0;34m\u001b[0m\u001b[0;34m\u001b[0m\u001b[0m\n",
            "\u001b[0;32m/usr/local/lib/python3.6/dist-packages/sklearn/utils/validation.py\u001b[0m in \u001b[0;36mcheck_X_y\u001b[0;34m(X, y, accept_sparse, accept_large_sparse, dtype, order, copy, force_all_finite, ensure_2d, allow_nd, multi_output, ensure_min_samples, ensure_min_features, y_numeric, warn_on_dtype, estimator)\u001b[0m\n\u001b[1;32m    753\u001b[0m                     \u001b[0mensure_min_features\u001b[0m\u001b[0;34m=\u001b[0m\u001b[0mensure_min_features\u001b[0m\u001b[0;34m,\u001b[0m\u001b[0;34m\u001b[0m\u001b[0;34m\u001b[0m\u001b[0m\n\u001b[1;32m    754\u001b[0m                     \u001b[0mwarn_on_dtype\u001b[0m\u001b[0;34m=\u001b[0m\u001b[0mwarn_on_dtype\u001b[0m\u001b[0;34m,\u001b[0m\u001b[0;34m\u001b[0m\u001b[0;34m\u001b[0m\u001b[0m\n\u001b[0;32m--> 755\u001b[0;31m                     estimator=estimator)\n\u001b[0m\u001b[1;32m    756\u001b[0m     \u001b[0;32mif\u001b[0m \u001b[0mmulti_output\u001b[0m\u001b[0;34m:\u001b[0m\u001b[0;34m\u001b[0m\u001b[0;34m\u001b[0m\u001b[0m\n\u001b[1;32m    757\u001b[0m         y = check_array(y, 'csr', force_all_finite=True, ensure_2d=False,\n",
            "\u001b[0;32m/usr/local/lib/python3.6/dist-packages/sklearn/utils/validation.py\u001b[0m in \u001b[0;36mcheck_array\u001b[0;34m(array, accept_sparse, accept_large_sparse, dtype, order, copy, force_all_finite, ensure_2d, allow_nd, ensure_min_samples, ensure_min_features, warn_on_dtype, estimator)\u001b[0m\n\u001b[1;32m    529\u001b[0m                     \u001b[0marray\u001b[0m \u001b[0;34m=\u001b[0m \u001b[0marray\u001b[0m\u001b[0;34m.\u001b[0m\u001b[0mastype\u001b[0m\u001b[0;34m(\u001b[0m\u001b[0mdtype\u001b[0m\u001b[0;34m,\u001b[0m \u001b[0mcasting\u001b[0m\u001b[0;34m=\u001b[0m\u001b[0;34m\"unsafe\"\u001b[0m\u001b[0;34m,\u001b[0m \u001b[0mcopy\u001b[0m\u001b[0;34m=\u001b[0m\u001b[0;32mFalse\u001b[0m\u001b[0;34m)\u001b[0m\u001b[0;34m\u001b[0m\u001b[0;34m\u001b[0m\u001b[0m\n\u001b[1;32m    530\u001b[0m                 \u001b[0;32melse\u001b[0m\u001b[0;34m:\u001b[0m\u001b[0;34m\u001b[0m\u001b[0;34m\u001b[0m\u001b[0m\n\u001b[0;32m--> 531\u001b[0;31m                     \u001b[0marray\u001b[0m \u001b[0;34m=\u001b[0m \u001b[0mnp\u001b[0m\u001b[0;34m.\u001b[0m\u001b[0masarray\u001b[0m\u001b[0;34m(\u001b[0m\u001b[0marray\u001b[0m\u001b[0;34m,\u001b[0m \u001b[0morder\u001b[0m\u001b[0;34m=\u001b[0m\u001b[0morder\u001b[0m\u001b[0;34m,\u001b[0m \u001b[0mdtype\u001b[0m\u001b[0;34m=\u001b[0m\u001b[0mdtype\u001b[0m\u001b[0;34m)\u001b[0m\u001b[0;34m\u001b[0m\u001b[0;34m\u001b[0m\u001b[0m\n\u001b[0m\u001b[1;32m    532\u001b[0m             \u001b[0;32mexcept\u001b[0m \u001b[0mComplexWarning\u001b[0m\u001b[0;34m:\u001b[0m\u001b[0;34m\u001b[0m\u001b[0;34m\u001b[0m\u001b[0m\n\u001b[1;32m    533\u001b[0m                 raise ValueError(\"Complex data not supported\\n\"\n",
            "\u001b[0;32m/usr/local/lib/python3.6/dist-packages/numpy/core/_asarray.py\u001b[0m in \u001b[0;36masarray\u001b[0;34m(a, dtype, order)\u001b[0m\n\u001b[1;32m     83\u001b[0m \u001b[0;34m\u001b[0m\u001b[0m\n\u001b[1;32m     84\u001b[0m     \"\"\"\n\u001b[0;32m---> 85\u001b[0;31m     \u001b[0;32mreturn\u001b[0m \u001b[0marray\u001b[0m\u001b[0;34m(\u001b[0m\u001b[0ma\u001b[0m\u001b[0;34m,\u001b[0m \u001b[0mdtype\u001b[0m\u001b[0;34m,\u001b[0m \u001b[0mcopy\u001b[0m\u001b[0;34m=\u001b[0m\u001b[0;32mFalse\u001b[0m\u001b[0;34m,\u001b[0m \u001b[0morder\u001b[0m\u001b[0;34m=\u001b[0m\u001b[0morder\u001b[0m\u001b[0;34m)\u001b[0m\u001b[0;34m\u001b[0m\u001b[0;34m\u001b[0m\u001b[0m\n\u001b[0m\u001b[1;32m     86\u001b[0m \u001b[0;34m\u001b[0m\u001b[0m\n\u001b[1;32m     87\u001b[0m \u001b[0;34m\u001b[0m\u001b[0m\n",
            "\u001b[0;31mValueError\u001b[0m: could not convert string to float: 'baixo'"
          ]
        }
      ]
    }
  ]
}