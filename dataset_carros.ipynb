{
  "nbformat": 4,
  "nbformat_minor": 0,
  "metadata": {
    "colab": {
      "name": "dataset-carros.ipynb",
      "provenance": [],
      "collapsed_sections": [],
      "toc_visible": true,
      "include_colab_link": true
    },
    "kernelspec": {
      "name": "python3",
      "display_name": "Python 3"
    }
  },
  "cells": [
    {
      "cell_type": "markdown",
      "metadata": {
        "id": "view-in-github",
        "colab_type": "text"
      },
      "source": [
        "<a href=\"https://colab.research.google.com/github/jacksonn455/Trabalho2IA/blob/master/dataset_carros.ipynb\" target=\"_parent\"><img src=\"https://colab.research.google.com/assets/colab-badge.svg\" alt=\"Open In Colab\"/></a>"
      ]
    },
    {
      "cell_type": "markdown",
      "metadata": {
        "id": "9kt8WM29aL8M",
        "colab_type": "text"
      },
      "source": [
        "# Jackson e Alvaro"
      ]
    },
    {
      "cell_type": "code",
      "metadata": {
        "id": "4hkGvGNiXXI0",
        "colab_type": "code",
        "colab": {
          "base_uri": "https://localhost:8080/",
          "height": 204
        },
        "outputId": "45047a18-b6cc-4cf5-ac66-20134f52bba4"
      },
      "source": [
        "import csv\n",
        "import pandas as pd\n",
        "import pandas.util.testing as tm\n",
        "import numpy as np\n",
        "import seaborn as sns\n",
        "from matplotlib import pyplot as plt\n",
        "from sklearn.pipeline import Pipeline\n",
        "from sklearn.model_selection import KFold\n",
        "from sklearn.linear_model import LogisticRegression\n",
        "from sklearn.dummy import DummyClassifier\n",
        "from sklearn.model_selection import GridSearchCV\n",
        "from sklearn.svm import SVC\n",
        "from sklearn import datasets\n",
        "from sklearn.metrics import classification_report, confusion_matrix  \n",
        "from sklearn.neighbors import KNeighborsClassifier\n",
        "from sklearn.preprocessing import StandardScaler\n",
        "from sklearn.model_selection import train_test_split\n",
        "from sklearn import preprocessing\n",
        "from sklearn.model_selection import StratifiedKFold\n",
        "from sklearn import metrics\n",
        "from sklearn.preprocessing import LabelEncoder\n",
        "from collections import defaultdict\n",
        "import scipy as scp\n",
        "import math\n",
        "import warnings\n",
        "warnings.filterwarnings(\"ignore\")\n",
        "\n",
        "# Ultilizando a biblioteca pandas para importação dos dados\n",
        "carros = pd.read_csv ('dataset-carros2.csv')\n",
        "\n",
        "# Verificando dados iniciais do dataset importado\n",
        "carros.head()"
      ],
      "execution_count": null,
      "outputs": [
        {
          "output_type": "execute_result",
          "data": {
            "text/html": [
              "<div>\n",
              "<style scoped>\n",
              "    .dataframe tbody tr th:only-of-type {\n",
              "        vertical-align: middle;\n",
              "    }\n",
              "\n",
              "    .dataframe tbody tr th {\n",
              "        vertical-align: top;\n",
              "    }\n",
              "\n",
              "    .dataframe thead th {\n",
              "        text-align: right;\n",
              "    }\n",
              "</style>\n",
              "<table border=\"1\" class=\"dataframe\">\n",
              "  <thead>\n",
              "    <tr style=\"text-align: right;\">\n",
              "      <th></th>\n",
              "      <th>valorcompra</th>\n",
              "      <th>valormanutencao</th>\n",
              "      <th>portas</th>\n",
              "      <th>pessoas</th>\n",
              "      <th>portamalas</th>\n",
              "      <th>nivelseguranca</th>\n",
              "      <th>classes</th>\n",
              "    </tr>\n",
              "  </thead>\n",
              "  <tbody>\n",
              "    <tr>\n",
              "      <th>0</th>\n",
              "      <td>4</td>\n",
              "      <td>4</td>\n",
              "      <td>2</td>\n",
              "      <td>2</td>\n",
              "      <td>pequeno</td>\n",
              "      <td>1</td>\n",
              "      <td>inaceitavel</td>\n",
              "    </tr>\n",
              "    <tr>\n",
              "      <th>1</th>\n",
              "      <td>4</td>\n",
              "      <td>4</td>\n",
              "      <td>2</td>\n",
              "      <td>2</td>\n",
              "      <td>pequeno</td>\n",
              "      <td>2</td>\n",
              "      <td>inaceitavel</td>\n",
              "    </tr>\n",
              "    <tr>\n",
              "      <th>2</th>\n",
              "      <td>4</td>\n",
              "      <td>4</td>\n",
              "      <td>2</td>\n",
              "      <td>2</td>\n",
              "      <td>pequeno</td>\n",
              "      <td>3</td>\n",
              "      <td>inaceitavel</td>\n",
              "    </tr>\n",
              "    <tr>\n",
              "      <th>3</th>\n",
              "      <td>4</td>\n",
              "      <td>4</td>\n",
              "      <td>2</td>\n",
              "      <td>2</td>\n",
              "      <td>2</td>\n",
              "      <td>1</td>\n",
              "      <td>inaceitavel</td>\n",
              "    </tr>\n",
              "    <tr>\n",
              "      <th>4</th>\n",
              "      <td>4</td>\n",
              "      <td>4</td>\n",
              "      <td>2</td>\n",
              "      <td>2</td>\n",
              "      <td>2</td>\n",
              "      <td>2</td>\n",
              "      <td>inaceitavel</td>\n",
              "    </tr>\n",
              "  </tbody>\n",
              "</table>\n",
              "</div>"
            ],
            "text/plain": [
              "   valorcompra  valormanutencao  portas  ... portamalas nivelseguranca      classes\n",
              "0            4                4       2  ...    pequeno              1  inaceitavel\n",
              "1            4                4       2  ...    pequeno              2  inaceitavel\n",
              "2            4                4       2  ...    pequeno              3  inaceitavel\n",
              "3            4                4       2  ...          2              1  inaceitavel\n",
              "4            4                4       2  ...          2              2  inaceitavel\n",
              "\n",
              "[5 rows x 7 columns]"
            ]
          },
          "metadata": {
            "tags": []
          },
          "execution_count": 313
        }
      ]
    },
    {
      "cell_type": "code",
      "metadata": {
        "id": "aGAO6FaxYULf",
        "colab_type": "code",
        "colab": {
          "base_uri": "https://localhost:8080/",
          "height": 255
        },
        "outputId": "03c7240e-f204-46d4-db84-4292ca6073ee"
      },
      "source": [
        "#Colunas, data types, quantidade de registros por coluna\n",
        "carros.info()"
      ],
      "execution_count": null,
      "outputs": [
        {
          "output_type": "stream",
          "text": [
            "<class 'pandas.core.frame.DataFrame'>\n",
            "RangeIndex: 1727 entries, 0 to 1726\n",
            "Data columns (total 7 columns):\n",
            " #   Column           Non-Null Count  Dtype \n",
            "---  ------           --------------  ----- \n",
            " 0   valorcompra      1727 non-null   int64 \n",
            " 1   valormanutencao  1727 non-null   int64 \n",
            " 2   portas           1727 non-null   int64 \n",
            " 3   pessoas          1727 non-null   object\n",
            " 4   portamalas       1727 non-null   object\n",
            " 5   nivelseguranca   1727 non-null   int64 \n",
            " 6   classes          1727 non-null   object\n",
            "dtypes: int64(4), object(3)\n",
            "memory usage: 94.6+ KB\n"
          ],
          "name": "stdout"
        }
      ]
    },
    {
      "cell_type": "code",
      "metadata": {
        "id": "dlRzhhvPpUgk",
        "colab_type": "code",
        "colab": {
          "base_uri": "https://localhost:8080/",
          "height": 153
        },
        "outputId": "d0c9448f-5af1-4a4d-a331-212f20fe1dad"
      },
      "source": [
        "# Quantas linhas tem a base de dados\n",
        "carros.count()"
      ],
      "execution_count": null,
      "outputs": [
        {
          "output_type": "execute_result",
          "data": {
            "text/plain": [
              "valorcompra        1727\n",
              "valormanutencao    1727\n",
              "portas             1727\n",
              "pessoas            1727\n",
              "portamalas         1727\n",
              "nivelseguranca     1727\n",
              "classes            1727\n",
              "dtype: int64"
            ]
          },
          "metadata": {
            "tags": []
          },
          "execution_count": 117
        }
      ]
    },
    {
      "cell_type": "code",
      "metadata": {
        "id": "epZKpRM4pkdk",
        "colab_type": "code",
        "colab": {
          "base_uri": "https://localhost:8080/",
          "height": 68
        },
        "outputId": "7c945f85-e27d-40d3-9c75-10b7a94984ea"
      },
      "source": [
        "# imprimir todas colunas do dataset\n",
        "carros.columns"
      ],
      "execution_count": null,
      "outputs": [
        {
          "output_type": "execute_result",
          "data": {
            "text/plain": [
              "Index(['valorcompra', 'valormanutencao', 'portas', 'pessoas', 'portamalas',\n",
              "       'nivelseguranca', 'classes'],\n",
              "      dtype='object')"
            ]
          },
          "metadata": {
            "tags": []
          },
          "execution_count": 116
        }
      ]
    },
    {
      "cell_type": "code",
      "metadata": {
        "id": "5Sy8BdBeYf6R",
        "colab_type": "code",
        "colab": {
          "base_uri": "https://localhost:8080/",
          "height": 297
        },
        "outputId": "ac671c22-4971-4268-9647-90e7c30ec463"
      },
      "source": [
        "# Verificando detalhes estatísticos do dataset\n",
        "carros.describe() "
      ],
      "execution_count": null,
      "outputs": [
        {
          "output_type": "execute_result",
          "data": {
            "text/html": [
              "<div>\n",
              "<style scoped>\n",
              "    .dataframe tbody tr th:only-of-type {\n",
              "        vertical-align: middle;\n",
              "    }\n",
              "\n",
              "    .dataframe tbody tr th {\n",
              "        vertical-align: top;\n",
              "    }\n",
              "\n",
              "    .dataframe thead th {\n",
              "        text-align: right;\n",
              "    }\n",
              "</style>\n",
              "<table border=\"1\" class=\"dataframe\">\n",
              "  <thead>\n",
              "    <tr style=\"text-align: right;\">\n",
              "      <th></th>\n",
              "      <th>portas</th>\n",
              "    </tr>\n",
              "  </thead>\n",
              "  <tbody>\n",
              "    <tr>\n",
              "      <th>count</th>\n",
              "      <td>1727.000000</td>\n",
              "    </tr>\n",
              "    <tr>\n",
              "      <th>mean</th>\n",
              "      <td>3.499131</td>\n",
              "    </tr>\n",
              "    <tr>\n",
              "      <th>std</th>\n",
              "      <td>1.118098</td>\n",
              "    </tr>\n",
              "    <tr>\n",
              "      <th>min</th>\n",
              "      <td>2.000000</td>\n",
              "    </tr>\n",
              "    <tr>\n",
              "      <th>25%</th>\n",
              "      <td>2.500000</td>\n",
              "    </tr>\n",
              "    <tr>\n",
              "      <th>50%</th>\n",
              "      <td>3.000000</td>\n",
              "    </tr>\n",
              "    <tr>\n",
              "      <th>75%</th>\n",
              "      <td>4.000000</td>\n",
              "    </tr>\n",
              "    <tr>\n",
              "      <th>max</th>\n",
              "      <td>5.000000</td>\n",
              "    </tr>\n",
              "  </tbody>\n",
              "</table>\n",
              "</div>"
            ],
            "text/plain": [
              "            portas\n",
              "count  1727.000000\n",
              "mean      3.499131\n",
              "std       1.118098\n",
              "min       2.000000\n",
              "25%       2.500000\n",
              "50%       3.000000\n",
              "75%       4.000000\n",
              "max       5.000000"
            ]
          },
          "metadata": {
            "tags": []
          },
          "execution_count": 115
        }
      ]
    },
    {
      "cell_type": "code",
      "metadata": {
        "id": "jTxralAKkEws",
        "colab_type": "code",
        "colab": {
          "base_uri": "https://localhost:8080/",
          "height": 255
        },
        "outputId": "0cbb4430-e672-405f-9d3c-f9ac1c5af954"
      },
      "source": [
        "# Verifica valores duplicados por linha, ou seja, verifica se alguma linha é exatamente igual a uma anterior\n",
        "print(carros.duplicated)\n"
      ],
      "execution_count": null,
      "outputs": [
        {
          "output_type": "stream",
          "text": [
            "<bound method DataFrame.duplicated of      valorcompra valormanutencao  portas  ... portamalas nivelseguranca      classes\n",
            "0      altissimo       altissimo       2  ...    pequeno          baixo  inaceitavel\n",
            "1      altissimo       altissimo       2  ...    pequeno          medio  inaceitavel\n",
            "2      altissimo       altissimo       2  ...    pequeno           alto  inaceitavel\n",
            "3      altissimo       altissimo       2  ...      medio          baixo  inaceitavel\n",
            "4      altissimo       altissimo       2  ...      medio          medio  inaceitavel\n",
            "...          ...             ...     ...  ...        ...            ...          ...\n",
            "1722       baixo           baixo       5  ...      medio          medio          bom\n",
            "1723       baixo           baixo       5  ...      medio           alto        otimo\n",
            "1724       baixo           baixo       5  ...     grande          baixo  inaceitavel\n",
            "1725       baixo           baixo       5  ...     grande          medio          bom\n",
            "1726       baixo           baixo       5  ...     grande           alto        otimo\n",
            "\n",
            "[1727 rows x 7 columns]>\n"
          ],
          "name": "stdout"
        }
      ]
    },
    {
      "cell_type": "code",
      "metadata": {
        "id": "-Kl9plh7Yy4p",
        "colab_type": "code",
        "colab": {
          "base_uri": "https://localhost:8080/",
          "height": 34
        },
        "outputId": "e799fa2e-54bf-4fa2-8e92-eee7319cc523"
      },
      "source": [
        "# Retorna a quantidade valores duplicados\n",
        "carros.duplicated().sum()"
      ],
      "execution_count": null,
      "outputs": [
        {
          "output_type": "execute_result",
          "data": {
            "text/plain": [
              "0"
            ]
          },
          "metadata": {
            "tags": []
          },
          "execution_count": 8
        }
      ]
    },
    {
      "cell_type": "code",
      "metadata": {
        "id": "WCbJt9zcqaUx",
        "colab_type": "code",
        "colab": {
          "base_uri": "https://localhost:8080/",
          "height": 419
        },
        "outputId": "cc847fe8-16b5-4e0d-c238-1427b0f91f73"
      },
      "source": [
        "# Verificação de valores faltantes\n",
        "carros.isnull()"
      ],
      "execution_count": null,
      "outputs": [
        {
          "output_type": "execute_result",
          "data": {
            "text/html": [
              "<div>\n",
              "<style scoped>\n",
              "    .dataframe tbody tr th:only-of-type {\n",
              "        vertical-align: middle;\n",
              "    }\n",
              "\n",
              "    .dataframe tbody tr th {\n",
              "        vertical-align: top;\n",
              "    }\n",
              "\n",
              "    .dataframe thead th {\n",
              "        text-align: right;\n",
              "    }\n",
              "</style>\n",
              "<table border=\"1\" class=\"dataframe\">\n",
              "  <thead>\n",
              "    <tr style=\"text-align: right;\">\n",
              "      <th></th>\n",
              "      <th>valorcompra</th>\n",
              "      <th>valormanutencao</th>\n",
              "      <th>portas</th>\n",
              "      <th>pessoas</th>\n",
              "      <th>portamalas</th>\n",
              "      <th>nivelseguranca</th>\n",
              "      <th>classes</th>\n",
              "    </tr>\n",
              "  </thead>\n",
              "  <tbody>\n",
              "    <tr>\n",
              "      <th>0</th>\n",
              "      <td>False</td>\n",
              "      <td>False</td>\n",
              "      <td>False</td>\n",
              "      <td>False</td>\n",
              "      <td>False</td>\n",
              "      <td>False</td>\n",
              "      <td>False</td>\n",
              "    </tr>\n",
              "    <tr>\n",
              "      <th>1</th>\n",
              "      <td>False</td>\n",
              "      <td>False</td>\n",
              "      <td>False</td>\n",
              "      <td>False</td>\n",
              "      <td>False</td>\n",
              "      <td>False</td>\n",
              "      <td>False</td>\n",
              "    </tr>\n",
              "    <tr>\n",
              "      <th>2</th>\n",
              "      <td>False</td>\n",
              "      <td>False</td>\n",
              "      <td>False</td>\n",
              "      <td>False</td>\n",
              "      <td>False</td>\n",
              "      <td>False</td>\n",
              "      <td>False</td>\n",
              "    </tr>\n",
              "    <tr>\n",
              "      <th>3</th>\n",
              "      <td>False</td>\n",
              "      <td>False</td>\n",
              "      <td>False</td>\n",
              "      <td>False</td>\n",
              "      <td>False</td>\n",
              "      <td>False</td>\n",
              "      <td>False</td>\n",
              "    </tr>\n",
              "    <tr>\n",
              "      <th>4</th>\n",
              "      <td>False</td>\n",
              "      <td>False</td>\n",
              "      <td>False</td>\n",
              "      <td>False</td>\n",
              "      <td>False</td>\n",
              "      <td>False</td>\n",
              "      <td>False</td>\n",
              "    </tr>\n",
              "    <tr>\n",
              "      <th>...</th>\n",
              "      <td>...</td>\n",
              "      <td>...</td>\n",
              "      <td>...</td>\n",
              "      <td>...</td>\n",
              "      <td>...</td>\n",
              "      <td>...</td>\n",
              "      <td>...</td>\n",
              "    </tr>\n",
              "    <tr>\n",
              "      <th>1722</th>\n",
              "      <td>False</td>\n",
              "      <td>False</td>\n",
              "      <td>False</td>\n",
              "      <td>False</td>\n",
              "      <td>False</td>\n",
              "      <td>False</td>\n",
              "      <td>False</td>\n",
              "    </tr>\n",
              "    <tr>\n",
              "      <th>1723</th>\n",
              "      <td>False</td>\n",
              "      <td>False</td>\n",
              "      <td>False</td>\n",
              "      <td>False</td>\n",
              "      <td>False</td>\n",
              "      <td>False</td>\n",
              "      <td>False</td>\n",
              "    </tr>\n",
              "    <tr>\n",
              "      <th>1724</th>\n",
              "      <td>False</td>\n",
              "      <td>False</td>\n",
              "      <td>False</td>\n",
              "      <td>False</td>\n",
              "      <td>False</td>\n",
              "      <td>False</td>\n",
              "      <td>False</td>\n",
              "    </tr>\n",
              "    <tr>\n",
              "      <th>1725</th>\n",
              "      <td>False</td>\n",
              "      <td>False</td>\n",
              "      <td>False</td>\n",
              "      <td>False</td>\n",
              "      <td>False</td>\n",
              "      <td>False</td>\n",
              "      <td>False</td>\n",
              "    </tr>\n",
              "    <tr>\n",
              "      <th>1726</th>\n",
              "      <td>False</td>\n",
              "      <td>False</td>\n",
              "      <td>False</td>\n",
              "      <td>False</td>\n",
              "      <td>False</td>\n",
              "      <td>False</td>\n",
              "      <td>False</td>\n",
              "    </tr>\n",
              "  </tbody>\n",
              "</table>\n",
              "<p>1727 rows × 7 columns</p>\n",
              "</div>"
            ],
            "text/plain": [
              "      valorcompra  valormanutencao  portas  ...  portamalas  nivelseguranca  classes\n",
              "0           False            False   False  ...       False           False    False\n",
              "1           False            False   False  ...       False           False    False\n",
              "2           False            False   False  ...       False           False    False\n",
              "3           False            False   False  ...       False           False    False\n",
              "4           False            False   False  ...       False           False    False\n",
              "...           ...              ...     ...  ...         ...             ...      ...\n",
              "1722        False            False   False  ...       False           False    False\n",
              "1723        False            False   False  ...       False           False    False\n",
              "1724        False            False   False  ...       False           False    False\n",
              "1725        False            False   False  ...       False           False    False\n",
              "1726        False            False   False  ...       False           False    False\n",
              "\n",
              "[1727 rows x 7 columns]"
            ]
          },
          "metadata": {
            "tags": []
          },
          "execution_count": 113
        }
      ]
    },
    {
      "cell_type": "code",
      "metadata": {
        "id": "Tun9z7kod_9z",
        "colab_type": "code",
        "colab": {
          "base_uri": "https://localhost:8080/",
          "height": 153
        },
        "outputId": "e394be75-99da-4101-9a90-edc489c9d84c"
      },
      "source": [
        "# Retorna a quantidade valores nulos ou faltantes por colunas.\n",
        "carros.isnull().sum()"
      ],
      "execution_count": null,
      "outputs": [
        {
          "output_type": "execute_result",
          "data": {
            "text/plain": [
              "valorcompra        0\n",
              "valormanutencao    0\n",
              "portas             0\n",
              "pessoas            0\n",
              "portamalas         0\n",
              "nivelseguranca     0\n",
              "classes            0\n",
              "dtype: int64"
            ]
          },
          "metadata": {
            "tags": []
          },
          "execution_count": 112
        }
      ]
    },
    {
      "cell_type": "code",
      "metadata": {
        "id": "_MrhZhUjZQ7b",
        "colab_type": "code",
        "colab": {
          "base_uri": "https://localhost:8080/",
          "height": 34
        },
        "outputId": "9ba795c2-5737-4a71-af5f-1b412eff0e3c"
      },
      "source": [
        "# Total de registros\n",
        "carros.size"
      ],
      "execution_count": null,
      "outputs": [
        {
          "output_type": "execute_result",
          "data": {
            "text/plain": [
              "12089"
            ]
          },
          "metadata": {
            "tags": []
          },
          "execution_count": 10
        }
      ]
    },
    {
      "cell_type": "code",
      "metadata": {
        "id": "lfudPOyXtu4f",
        "colab_type": "code",
        "colab": {
          "base_uri": "https://localhost:8080/",
          "height": 111
        },
        "outputId": "162b0218-92a7-44f8-eab5-dd31cf2bbecf"
      },
      "source": [
        "# Carros com o melhor Custo beneficio\n",
        "carros.loc[(carros['valorcompra']=='baixo') & (carros['valormanutencao'] == 'baixo') & (carros['portas'] == 4) & (carros['portamalas'] == 'grande') & (carros['nivelseguranca'] == 'alto') & (carros['classes'] == 'otimo') ]"
      ],
      "execution_count": null,
      "outputs": [
        {
          "output_type": "execute_result",
          "data": {
            "text/html": [
              "<div>\n",
              "<style scoped>\n",
              "    .dataframe tbody tr th:only-of-type {\n",
              "        vertical-align: middle;\n",
              "    }\n",
              "\n",
              "    .dataframe tbody tr th {\n",
              "        vertical-align: top;\n",
              "    }\n",
              "\n",
              "    .dataframe thead th {\n",
              "        text-align: right;\n",
              "    }\n",
              "</style>\n",
              "<table border=\"1\" class=\"dataframe\">\n",
              "  <thead>\n",
              "    <tr style=\"text-align: right;\">\n",
              "      <th></th>\n",
              "      <th>valorcompra</th>\n",
              "      <th>valormanutencao</th>\n",
              "      <th>portas</th>\n",
              "      <th>pessoas</th>\n",
              "      <th>portamalas</th>\n",
              "      <th>nivelseguranca</th>\n",
              "      <th>classes</th>\n",
              "    </tr>\n",
              "  </thead>\n",
              "  <tbody>\n",
              "    <tr>\n",
              "      <th>1690</th>\n",
              "      <td>baixo</td>\n",
              "      <td>baixo</td>\n",
              "      <td>4</td>\n",
              "      <td>4</td>\n",
              "      <td>grande</td>\n",
              "      <td>alto</td>\n",
              "      <td>otimo</td>\n",
              "    </tr>\n",
              "    <tr>\n",
              "      <th>1699</th>\n",
              "      <td>baixo</td>\n",
              "      <td>baixo</td>\n",
              "      <td>4</td>\n",
              "      <td>5mais</td>\n",
              "      <td>grande</td>\n",
              "      <td>alto</td>\n",
              "      <td>otimo</td>\n",
              "    </tr>\n",
              "  </tbody>\n",
              "</table>\n",
              "</div>"
            ],
            "text/plain": [
              "     valorcompra valormanutencao  portas  ... portamalas nivelseguranca classes\n",
              "1690       baixo           baixo       4  ...     grande           alto   otimo\n",
              "1699       baixo           baixo       4  ...     grande           alto   otimo\n",
              "\n",
              "[2 rows x 7 columns]"
            ]
          },
          "metadata": {
            "tags": []
          },
          "execution_count": 111
        }
      ]
    },
    {
      "cell_type": "code",
      "metadata": {
        "id": "0f2kRvTNvGVk",
        "colab_type": "code",
        "colab": {
          "base_uri": "https://localhost:8080/",
          "height": 153
        },
        "outputId": "17400db2-37e5-4fd4-c60b-ecf8046cbf88"
      },
      "source": [
        "# Contar a quantidade de carros com melhor custo e beneficio\n",
        "carros.loc[(carros['valorcompra']=='baixo') & (carros['valormanutencao'] == 'baixo') & (carros['portas'] == 4) & (carros['portamalas'] == 'grande') & (carros['nivelseguranca'] == 'alto') & (carros['classes'] == 'otimo') ].count()"
      ],
      "execution_count": null,
      "outputs": [
        {
          "output_type": "execute_result",
          "data": {
            "text/plain": [
              "valorcompra        2\n",
              "valormanutencao    2\n",
              "portas             2\n",
              "pessoas            2\n",
              "portamalas         2\n",
              "nivelseguranca     2\n",
              "classes            2\n",
              "dtype: int64"
            ]
          },
          "metadata": {
            "tags": []
          },
          "execution_count": 110
        }
      ]
    },
    {
      "cell_type": "code",
      "metadata": {
        "id": "xqnYkKSvmzjR",
        "colab_type": "code",
        "colab": {
          "base_uri": "https://localhost:8080/",
          "height": 142
        },
        "outputId": "1c913e3a-e453-407e-97e5-691eb20a5822"
      },
      "source": [
        "# Carros com o pior Custo beneficio\n",
        "carros.loc[(carros['valorcompra']=='baixo') & (carros['valormanutencao'] == 'alto') & (carros['portas'] == 2) & (carros['portamalas'] == 'pequeno') & (carros['nivelseguranca'] == 'baixo') & (carros['classes'] == 'inaceitavel') ]"
      ],
      "execution_count": null,
      "outputs": [
        {
          "output_type": "execute_result",
          "data": {
            "text/html": [
              "<div>\n",
              "<style scoped>\n",
              "    .dataframe tbody tr th:only-of-type {\n",
              "        vertical-align: middle;\n",
              "    }\n",
              "\n",
              "    .dataframe tbody tr th {\n",
              "        vertical-align: top;\n",
              "    }\n",
              "\n",
              "    .dataframe thead th {\n",
              "        text-align: right;\n",
              "    }\n",
              "</style>\n",
              "<table border=\"1\" class=\"dataframe\">\n",
              "  <thead>\n",
              "    <tr style=\"text-align: right;\">\n",
              "      <th></th>\n",
              "      <th>valorcompra</th>\n",
              "      <th>valormanutencao</th>\n",
              "      <th>portas</th>\n",
              "      <th>pessoas</th>\n",
              "      <th>portamalas</th>\n",
              "      <th>nivelseguranca</th>\n",
              "      <th>classes</th>\n",
              "    </tr>\n",
              "  </thead>\n",
              "  <tbody>\n",
              "    <tr>\n",
              "      <th>1403</th>\n",
              "      <td>baixo</td>\n",
              "      <td>alto</td>\n",
              "      <td>2</td>\n",
              "      <td>2</td>\n",
              "      <td>pequeno</td>\n",
              "      <td>baixo</td>\n",
              "      <td>inaceitavel</td>\n",
              "    </tr>\n",
              "    <tr>\n",
              "      <th>1412</th>\n",
              "      <td>baixo</td>\n",
              "      <td>alto</td>\n",
              "      <td>2</td>\n",
              "      <td>4</td>\n",
              "      <td>pequeno</td>\n",
              "      <td>baixo</td>\n",
              "      <td>inaceitavel</td>\n",
              "    </tr>\n",
              "    <tr>\n",
              "      <th>1421</th>\n",
              "      <td>baixo</td>\n",
              "      <td>alto</td>\n",
              "      <td>2</td>\n",
              "      <td>5mais</td>\n",
              "      <td>pequeno</td>\n",
              "      <td>baixo</td>\n",
              "      <td>inaceitavel</td>\n",
              "    </tr>\n",
              "  </tbody>\n",
              "</table>\n",
              "</div>"
            ],
            "text/plain": [
              "     valorcompra valormanutencao  portas  ... portamalas nivelseguranca      classes\n",
              "1403       baixo            alto       2  ...    pequeno          baixo  inaceitavel\n",
              "1412       baixo            alto       2  ...    pequeno          baixo  inaceitavel\n",
              "1421       baixo            alto       2  ...    pequeno          baixo  inaceitavel\n",
              "\n",
              "[3 rows x 7 columns]"
            ]
          },
          "metadata": {
            "tags": []
          },
          "execution_count": 109
        }
      ]
    },
    {
      "cell_type": "code",
      "metadata": {
        "id": "sGNsN0UynPbU",
        "colab_type": "code",
        "colab": {
          "base_uri": "https://localhost:8080/",
          "height": 153
        },
        "outputId": "cd9a5b5c-7f7c-4ead-8d54-a2c2c7c36689"
      },
      "source": [
        "# Contar a quantidade de carros com o pior custo e beneficio\n",
        "carros.loc[(carros['valorcompra']=='baixo') & (carros['valormanutencao'] == 'alto') & (carros['portas'] == 2) & (carros['portamalas'] == 'pequeno') & (carros['nivelseguranca'] == 'baixo') & (carros['classes'] == 'inaceitavel') ].count()"
      ],
      "execution_count": null,
      "outputs": [
        {
          "output_type": "execute_result",
          "data": {
            "text/plain": [
              "valorcompra        3\n",
              "valormanutencao    3\n",
              "portas             3\n",
              "pessoas            3\n",
              "portamalas         3\n",
              "nivelseguranca     3\n",
              "classes            3\n",
              "dtype: int64"
            ]
          },
          "metadata": {
            "tags": []
          },
          "execution_count": 108
        }
      ]
    },
    {
      "cell_type": "code",
      "metadata": {
        "id": "EC9O40Oc3eG_",
        "colab_type": "code",
        "colab": {
          "base_uri": "https://localhost:8080/",
          "height": 318
        },
        "outputId": "e0a1e795-8d6a-4cdd-f4e2-5e0e4fe02589"
      },
      "source": [
        "# Grafico com o Valor compra x Valor manutenção\n",
        "carros.plot(x='valorcompra',y='valormanutencao',kind='scatter', title='Valor compra x Valor manutenção',color='r')"
      ],
      "execution_count": null,
      "outputs": [
        {
          "output_type": "execute_result",
          "data": {
            "text/plain": [
              "<matplotlib.axes._subplots.AxesSubplot at 0x7f11db156cc0>"
            ]
          },
          "metadata": {
            "tags": []
          },
          "execution_count": 107
        },
        {
          "output_type": "display_data",
          "data": {
            "image/png": "[encoded data removed]",
            "text/plain": [
              "<Figure size 432x288 with 1 Axes>"
            ]
          },
          "metadata": {
            "tags": []
          }
        }
      ]
    },
    {
      "cell_type": "code",
      "metadata": {
        "id": "LhdMBnptczoy",
        "colab_type": "code",
        "colab": {
          "base_uri": "https://localhost:8080/",
          "height": 34
        },
        "outputId": "95813a95-e1e9-4a4e-c8ad-f1c0f97cb0b7"
      },
      "source": [
        "# Obter a forma atual da matriz\n",
        "carros.shape"
      ],
      "execution_count": null,
      "outputs": [
        {
          "output_type": "execute_result",
          "data": {
            "text/plain": [
              "(1727, 7)"
            ]
          },
          "metadata": {
            "tags": []
          },
          "execution_count": 106
        }
      ]
    },
    {
      "cell_type": "code",
      "metadata": {
        "id": "O2j-JmuHv4DK",
        "colab_type": "code",
        "colab": {
          "base_uri": "https://localhost:8080/",
          "height": 268
        },
        "outputId": "3ad501f6-698f-41e8-e22e-55425673307f"
      },
      "source": [
        "# Distribuição das classes:\n",
        "sns.countplot(carros.index)\n",
        "sns.set(style=\"darkgrid\")\n",
        "plt.show() "
      ],
      "execution_count": null,
      "outputs": [
        {
          "output_type": "display_data",
          "data": {
            "image/png": "[encoded data removed]",
            "text/plain": [
              "<Figure size 432x288 with 1 Axes>"
            ]
          },
          "metadata": {
            "tags": []
          }
        }
      ]
    },
    {
      "cell_type": "code",
      "metadata": {
        "id": "a_S3_RtiwT9C",
        "colab_type": "code",
        "colab": {
          "base_uri": "https://localhost:8080/",
          "height": 221
        },
        "outputId": "7a1ef9b3-243e-40cb-c014-0f79747124f7"
      },
      "source": [
        "# Quantidade de valores únicos para cada coluna:\n",
        "carros.index.value_counts()"
      ],
      "execution_count": null,
      "outputs": [
        {
          "output_type": "execute_result",
          "data": {
            "text/plain": [
              "1725    1\n",
              "1132    1\n",
              "1136    1\n",
              "1138    1\n",
              "1140    1\n",
              "       ..\n",
              "581     1\n",
              "583     1\n",
              "585     1\n",
              "587     1\n",
              "0       1\n",
              "Length: 1727, dtype: int64"
            ]
          },
          "metadata": {
            "tags": []
          },
          "execution_count": 104
        }
      ]
    },
    {
      "cell_type": "code",
      "metadata": {
        "id": "ou4fyhEsZQCB",
        "colab_type": "code",
        "colab": {
          "base_uri": "https://localhost:8080/",
          "height": 377
        },
        "outputId": "caaf6d85-d3a9-492f-a719-a455039b0eb2"
      },
      "source": [
        "def grafico (data):\n",
        "    '''\n",
        "    Esta função exibirá a quantidade de registros únicos para cada coluna\n",
        "    existente no dataset\n",
        "    \n",
        "    dataframe -> Histogram\n",
        "    '''\n",
        "    # Calculando valores unicos para cada label: num_unique_labels\n",
        "    num_unique_labels = data.apply(pd.Series.nunique)\n",
        "\n",
        "    # plotando valores\n",
        "    num_unique_labels.plot( kind='bar')\n",
        "    \n",
        "    # Nomeando os eixos\n",
        "    plt.xlabel('Campos')\n",
        "    plt.ylabel('Número de Registros únicos')\n",
        "    plt.title('Distribuição de dados únicos do DataSet')\n",
        "    \n",
        "    # Exibindo gráfico\n",
        "    plt.style.use('ggplot')\n",
        "    plt.show()\n",
        "\n",
        "grafico(carros)"
      ],
      "execution_count": null,
      "outputs": [
        {
          "output_type": "display_data",
          "data": {
            "image/png": "[encoded data removed]",
            "text/plain": [
              "<Figure size 432x288 with 1 Axes>"
            ]
          },
          "metadata": {
            "tags": []
          }
        }
      ]
    },
    {
      "cell_type": "code",
      "metadata": {
        "id": "CpwtQMmuZrAp",
        "colab_type": "code",
        "colab": {
          "base_uri": "https://localhost:8080/",
          "height": 632
        },
        "outputId": "97c98cb9-15ba-48bd-f855-455a7fef5d7a"
      },
      "source": [
        "a = pd.value_counts(carros['classes']) [0]\n",
        "b = pd.value_counts(carros['classes']) [1]\n",
        "c = pd.value_counts(carros['classes']) [2]\n",
        "d = pd.value_counts(carros['classes']) [3]\n",
        "\n",
        "tam = len(carros)\n",
        "\n",
        "print('Inaceitavel: ',a)\n",
        "print('Aceitavel: ',b)\n",
        "print('Bom: ',c)\n",
        "print('Otimo: ',d)\n",
        "\n",
        "pie = pd.DataFrame([['Inaceitavel',a],['Aceitavel',b],['Bom',c],['Otimo',d]],columns=['Tipo' , 'Quantidade'])\n",
        "\n",
        "def pie_chart(data,col1,col2,col3,col4,title): \n",
        "    labels = {'Inaceitavel':'0','Aceitavel':'1', 'Bom':'2', 'Otimo':'3'}\n",
        "    sizes = data[col4]\n",
        "    colors = ['#c74e26', '#ffb266', '#8679c9', '#d694cd']\n",
        "\n",
        "\n",
        "    plt.pie(sizes, labels=labels, colors=colors,\n",
        "                autopct='%1.1f%%', shadow=True, startangle=140, labeldistance =1.2)\n",
        "    plt.title( title )\n",
        "    \n",
        "    plt.axis('equal')\n",
        "    plt.show()\n",
        "\n",
        "pie_chart(pie,'Tipo' ,'label', 'label', 'Quantidade','Distribuição Percentual Classes')\n",
        "\n",
        "\n",
        "plt.bar(pie.Tipo,pie.Quantidade, color = ['#c74e26', '#ffb266', '#8679c9', '#d694cd'])\n",
        "plt.title(\"Distribuição das Classes dos carros\")\n",
        "plt.xlabel(\"Tipo de classe\")\n",
        "plt.ylabel('Quantidade de Registros')\n",
        "plt.show()"
      ],
      "execution_count": null,
      "outputs": [
        {
          "output_type": "stream",
          "text": [
            "Inaceitavel:  1210\n",
            "Aceitavel:  383\n",
            "Bom:  69\n",
            "Otimo:  65\n"
          ],
          "name": "stdout"
        },
        {
          "output_type": "display_data",
          "data": {
            "image/png": "[encoded data removed]",
            "text/plain": [
              "<Figure size 432x288 with 1 Axes>"
            ]
          },
          "metadata": {
            "tags": []
          }
        },
        {
          "output_type": "display_data",
          "data": {
            "image/png": "[encoded data removed]",
            "text/plain": [
              "<Figure size 432x288 with 1 Axes>"
            ]
          },
          "metadata": {
            "tags": []
          }
        }
      ]
    },
    {
      "cell_type": "code",
      "metadata": {
        "id": "Om9byUmQaWCT",
        "colab_type": "code",
        "colab": {
          "base_uri": "https://localhost:8080/",
          "height": 255
        },
        "outputId": "1d948f10-0041-4a73-9351-0a4a4266a1dc"
      },
      "source": [
        "carros.info()"
      ],
      "execution_count": null,
      "outputs": [
        {
          "output_type": "stream",
          "text": [
            "<class 'pandas.core.frame.DataFrame'>\n",
            "RangeIndex: 1727 entries, 0 to 1726\n",
            "Data columns (total 7 columns):\n",
            " #   Column           Non-Null Count  Dtype \n",
            "---  ------           --------------  ----- \n",
            " 0   valorcompra      1727 non-null   object\n",
            " 1   valormanutencao  1727 non-null   object\n",
            " 2   portas           1727 non-null   int64 \n",
            " 3   pessoas          1727 non-null   object\n",
            " 4   portamalas       1727 non-null   object\n",
            " 5   nivelseguranca   1727 non-null   object\n",
            " 6   classes          1727 non-null   object\n",
            "dtypes: int64(1), object(6)\n",
            "memory usage: 94.6+ KB\n"
          ],
          "name": "stdout"
        }
      ]
    },
    {
      "cell_type": "code",
      "metadata": {
        "id": "Qnw8NsUmDDvr",
        "colab_type": "code",
        "colab": {}
      },
      "source": [
        "#Dataset alterado pegando ideia do email do professor    \n",
        "carros['custobeneficio'] = carros['valorcompra'] + carros['valormanutencao'] \n",
        "carros['seguranca'] = (carros['nivelseguranca'] + carros['portas'])"
      ],
      "execution_count": null,
      "outputs": []
    },
    {
      "cell_type": "code",
      "metadata": {
        "id": "xfcYc8QkQrMK",
        "colab_type": "code",
        "colab": {}
      },
      "source": [
        "#Customizando as cores\n",
        "red_blue = [\"#19B5FE\", \"#EF4836\"]\n",
        "palette = sns.color_palette(red_blue)\n",
        "sns.set_palette(palette)\n",
        "sns.set_style(\"white\")"
      ],
      "execution_count": null,
      "outputs": []
    },
    {
      "cell_type": "code",
      "metadata": {
        "id": "J6LauoRCRdGM",
        "colab_type": "code",
        "colab": {}
      },
      "source": [
        "# PARTE DA ACURACIA DOS VERDADEIROS POSITIVOS E NEGATIVOS\n",
        "pos_custo = carros[carros['valorcompra'] == 1]['valormanutencao']\n",
        "neg_custo = carros[carros['valorcompra'] == 0]['valormanutencao']"
      ],
      "execution_count": null,
      "outputs": []
    },
    {
      "cell_type": "code",
      "metadata": {
        "id": "fyV_zPeHPAEq",
        "colab_type": "code",
        "colab": {
          "base_uri": "https://localhost:8080/",
          "height": 518
        },
        "outputId": "88344081-98db-44c9-c9c3-310e8a9bf5d9"
      },
      "source": [
        "  fig = plt.figure(figsize=(12, 8))\n",
        "  plt.title(\"Distribuição\")\n",
        "  carros['custobeneficio'].hist(alpha = 0.7, bins = 30, label='positivo')\n",
        "  carros['seguranca'].hist(alpha = 0.7, bins = 30, label='negativo')\n",
        "  plt.legend(loc = \"upper right\")"
      ],
      "execution_count": null,
      "outputs": [
        {
          "output_type": "execute_result",
          "data": {
            "text/plain": [
              "<matplotlib.legend.Legend at 0x7f11da7f7780>"
            ]
          },
          "metadata": {
            "tags": []
          },
          "execution_count": 324
        },
        {
          "output_type": "display_data",
          "data": {
            "image/png": "[encoded data removed]",
            "text/plain": [
              "<Figure size 864x576 with 1 Axes>"
            ]
          },
          "metadata": {
            "tags": []
          }
        }
      ]
    },
    {
      "cell_type": "markdown",
      "metadata": {
        "id": "8h43sD0cL7ZU",
        "colab_type": "text"
      },
      "source": [
        "# Àrvore de decisão"
      ]
    },
    {
      "cell_type": "code",
      "metadata": {
        "id": "wgnHGVAVJj8Q",
        "colab_type": "code",
        "colab": {
          "base_uri": "https://localhost:8080/",
          "height": 51
        },
        "outputId": "55fac896-396a-4ec1-ff3d-3961d89a165b"
      },
      "source": [
        "from sklearn import tree\n",
        "from sklearn.metrics import accuracy_score\n",
        "\n",
        "\n",
        "x = carros[[\"valorcompra\", \"valormanutencao\"]]\n",
        "y = carros['classes']\n",
        "\n",
        "SEED = 158020\n",
        "np.random.seed(SEED)\n",
        "treino_x, teste_x, treino_y, teste_y = train_test_split(x, y, test_size = 0.25,\n",
        "                                                         stratify = y)\n",
        "print(\"Treinaremos com %d elementos e testaremos com %d elementos\" % (len(treino_x), len(teste_x)))\n",
        "\n",
        "modelo = tree.DecisionTreeClassifier(max_depth=2)\n",
        "modelo.fit(treino_x, treino_y)\n",
        "previsoes = modelo.predict(teste_x)\n",
        "\n",
        "acuracia = accuracy_score(teste_y, previsoes) * 100\n",
        "print(\"A acurácia da arvore stratified foi %.2f%%\" % acuracia)"
      ],
      "execution_count": null,
      "outputs": [
        {
          "output_type": "stream",
          "text": [
            "Treinaremos com 1295 elementos e testaremos com 432 elementos\n",
            "A acurácia da arvore stratified foi 70.14%\n"
          ],
          "name": "stdout"
        }
      ]
    },
    {
      "cell_type": "markdown",
      "metadata": {
        "id": "fxvr6wmCMPJ4",
        "colab_type": "text"
      },
      "source": [
        "# Dummy Classifier"
      ]
    },
    {
      "cell_type": "code",
      "metadata": {
        "id": "j5tvoXzvMA67",
        "colab_type": "code",
        "colab": {
          "base_uri": "https://localhost:8080/",
          "height": 51
        },
        "outputId": "006b8d7d-392c-40d8-82ac-39fe175cf852"
      },
      "source": [
        "x = carros[[\"valorcompra\", \"valormanutencao\"]]\n",
        "y = carros[\"classes\"]\n",
        "\n",
        "SEED = 158020\n",
        "np.random.seed(SEED)\n",
        "treino_x, teste_x, treino_y, teste_y = train_test_split(x, y, test_size = 0.25,\n",
        "                                                         stratify = y)\n",
        "print(\"Treinaremos com %d elementos e testaremos com %d elementos\" % (len(treino_x), len(teste_x)))\n",
        "\n",
        "dummy_stratified = DummyClassifier()\n",
        "dummy_stratified.fit(treino_x, treino_y)\n",
        "acuracia = dummy_stratified.score(teste_x, teste_y) * 100\n",
        "\n",
        "print(\"A acurácia do dummy stratified foi de %.2f%%\" % acuracia)"
      ],
      "execution_count": null,
      "outputs": [
        {
          "output_type": "stream",
          "text": [
            "Treinaremos com 1295 elementos e testaremos com 432 elementos\n",
            "A acurácia do dummy stratified foi de 56.94%\n"
          ],
          "name": "stdout"
        }
      ]
    }
  ]
}